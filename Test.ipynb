{
    "cells": [
        {
            "cell_type": "markdown",
            "metadata": {
                "collapsed": true
            },
            "source": "# My Jupyter Notebook on IBM Watson Studio"
        },
        {
            "cell_type": "markdown",
            "metadata": {},
            "source": "**Akshay M**"
        },
        {
            "cell_type": "markdown",
            "metadata": {},
            "source": "100% Human"
        },
        {
            "cell_type": "markdown",
            "metadata": {},
            "source": "*I am interested in data science because I love solving problems and these techniques will automate lot of it.*"
        },
        {
            "cell_type": "markdown",
            "metadata": {},
            "source": "### The following code tests the Gauss formula ###"
        },
        {
            "cell_type": "code",
            "execution_count": 4,
            "metadata": {},
            "outputs": [
                {
                    "data": {
                        "text/plain": "True"
                    },
                    "execution_count": 4,
                    "metadata": {},
                    "output_type": "execute_result"
                }
            ],
            "source": "def gauss(n):\n    return (n*(n+1))/2\n\ngauss(100) == sum(range(101))"
        },
        {
            "cell_type": "markdown",
            "metadata": {},
            "source": "**Code syntax highlighting as below**\n\n`def gauss(n):`\n    `return (n*(n+1))/2`\n\n`gauss(100) == sum(range(101))`"
        },
        {
            "cell_type": "markdown",
            "metadata": {},
            "source": "* one\n* two\n* three\n* four"
        },
        {
            "cell_type": "markdown",
            "metadata": {},
            "source": "1. One\n2. Two\n3. Three\n4. Four"
        },
        {
            "cell_type": "markdown",
            "metadata": {},
            "source": "~~Strikethroughs~~\n~Strikethroughs~\n<s>Strikethroughs</s>\n<strike>Strikethroughs<strike>"
        },
        {
            "cell_type": "markdown",
            "metadata": {},
            "source": "<blockquote>Blockquotes</blockquote>"
        },
        {
            "cell_type": "markdown",
            "metadata": {},
            "source": "***\nHorizontal Line\n***"
        },
        {
            "cell_type": "markdown",
            "metadata": {},
            "source": "| Stretch/Untouched | ProbDistribution | Accuracy |\n| :- | -: | :-: |\n| *Stretched* | **Gaussian** | .843"
        },
        {
            "cell_type": "markdown",
            "metadata": {},
            "source": "<a href=\"url\" target=\"www.ibm.com\">IBM</a>"
        },
        {
            "cell_type": "markdown",
            "metadata": {},
            "source": "**Image as below**"
        },
        {
            "cell_type": "markdown",
            "metadata": {},
            "source": "![Markdown Logo is here.](https://www.fullstackpython.com/img/logos/markdown.png)"
        }
    ],
    "metadata": {
        "kernelspec": {
            "display_name": "Python 3.10",
            "language": "python",
            "name": "python3"
        },
        "language_info": {
            "codemirror_mode": {
                "name": "ipython",
                "version": 3
            },
            "file_extension": ".py",
            "mimetype": "text/x-python",
            "name": "python",
            "nbconvert_exporter": "python",
            "pygments_lexer": "ipython3",
            "version": "3.10.6"
        }
    },
    "nbformat": 4,
    "nbformat_minor": 1
}